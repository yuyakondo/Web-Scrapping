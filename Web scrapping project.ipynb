{
 "cells": [
  {
   "cell_type": "code",
   "execution_count": null,
   "id": "5484cae7",
   "metadata": {},
   "outputs": [],
   "source": [
    "from selenium import webdriver"
   ]
  },
  {
   "cell_type": "code",
   "execution_count": null,
   "id": "8890edc3",
   "metadata": {},
   "outputs": [],
   "source": [
    "import csv\n",
    "from bs4 import BeautifulSoup"
   ]
  },
  {
   "cell_type": "code",
   "execution_count": null,
   "id": "09e54ba3",
   "metadata": {},
   "outputs": [],
   "source": [
    "browser = webdriver.Chrome('/Users/yuyakondo/Desktop/Python web scrapping/chromedriver')"
   ]
  },
  {
   "cell_type": "code",
   "execution_count": null,
   "id": "3fca1727",
   "metadata": {},
   "outputs": [],
   "source": [
    "# access to Amazon.com\n",
    "\n",
    "#url = 'https://amazon.com'\n",
    "#browser.get(url)"
   ]
  },
  {
   "cell_type": "code",
   "execution_count": null,
   "id": "49de5da7",
   "metadata": {},
   "outputs": [],
   "source": [
    "def get_url (search_term):\n",
    "    \"\"\"Generate a url from search term\"\"\"\n",
    "    template = 'https://www.amazon.com/s?k={}r&crid=1LX4U1JBSS9JP&sprefix=ultrawide%2Caps%2C235&ref=nb_sb_ss_ts-doa-p_1_9'\n",
    "    search_term = search_term.replace(' ', '+')\n",
    "    return template.format(search_term)"
   ]
  },
  {
   "cell_type": "code",
   "execution_count": null,
   "id": "6332ff11",
   "metadata": {},
   "outputs": [],
   "source": [
    "url = get_url('ultrawide monitor')\n",
    "print(url)"
   ]
  },
  {
   "cell_type": "code",
   "execution_count": null,
   "id": "2707ff78",
   "metadata": {},
   "outputs": [],
   "source": [
    "# type in automatically 'ultra wide monitor' in search\n",
    "browser.get(url)"
   ]
  },
  {
   "cell_type": "markdown",
   "id": "56aa2d0b",
   "metadata": {},
   "source": [
    "# Extract the collection"
   ]
  },
  {
   "cell_type": "code",
   "execution_count": null,
   "id": "1a4dbc8d",
   "metadata": {},
   "outputs": [],
   "source": [
    "soup = BeautifulSoup(browser.page_source, 'html.parser')"
   ]
  },
  {
   "cell_type": "code",
   "execution_count": null,
   "id": "191fcde5",
   "metadata": {},
   "outputs": [],
   "source": [
    "results = soup.find_all('div', {'data-component-type': 's-search-result'})"
   ]
  },
  {
   "cell_type": "code",
   "execution_count": null,
   "id": "84b6d738",
   "metadata": {},
   "outputs": [],
   "source": [
    "len(results)"
   ]
  },
  {
   "cell_type": "markdown",
   "id": "8cbb97de",
   "metadata": {},
   "source": [
    "# prototype record"
   ]
  },
  {
   "cell_type": "code",
   "execution_count": null,
   "id": "b99521a6",
   "metadata": {},
   "outputs": [],
   "source": [
    "item = results[0]"
   ]
  },
  {
   "cell_type": "code",
   "execution_count": null,
   "id": "66ec6981",
   "metadata": {},
   "outputs": [],
   "source": [
    "atag = item.h2.a"
   ]
  },
  {
   "cell_type": "code",
   "execution_count": null,
   "id": "9ccbd592",
   "metadata": {},
   "outputs": [],
   "source": [
    "description = atag.text.strip()"
   ]
  },
  {
   "cell_type": "code",
   "execution_count": null,
   "id": "976f779d",
   "metadata": {},
   "outputs": [],
   "source": [
    "url = 'https://www.amazon.com' + atag.get('href')"
   ]
  },
  {
   "cell_type": "code",
   "execution_count": null,
   "id": "ae4b26a6",
   "metadata": {},
   "outputs": [],
   "source": [
    "# get the price \n",
    "\n",
    "price_parent = item.find('span', 'a-price')"
   ]
  },
  {
   "cell_type": "code",
   "execution_count": null,
   "id": "a3e2004f",
   "metadata": {},
   "outputs": [],
   "source": [
    "price_parent.find('span', 'a-offscreen').text"
   ]
  },
  {
   "cell_type": "code",
   "execution_count": null,
   "id": "8627dc0f",
   "metadata": {},
   "outputs": [],
   "source": [
    "# grab the rating reviews\n",
    "\n",
    "ratings = item.i.text"
   ]
  },
  {
   "cell_type": "code",
   "execution_count": null,
   "id": "eeb3d9b4",
   "metadata": {},
   "outputs": [],
   "source": [
    "review_count = item.find('span', {'class': 'a-size-base'}).text"
   ]
  },
  {
   "cell_type": "code",
   "execution_count": null,
   "id": "9f700f03",
   "metadata": {},
   "outputs": [],
   "source": [
    "print(review_count)"
   ]
  },
  {
   "cell_type": "markdown",
   "id": "9a323d67",
   "metadata": {},
   "source": [
    "# generalized the pattern "
   ]
  },
  {
   "cell_type": "code",
   "execution_count": null,
   "id": "abd888e0",
   "metadata": {},
   "outputs": [],
   "source": [
    "def extract_record(item):\n",
    "    \n",
    "    # description and url \n",
    "    \n",
    "    atag = item.h2.a\n",
    "    description = atag.text.strip()\n",
    "    url = 'https://www.amazon.com' + atag.get('href')\n",
    "    \n",
    "    # Price \n",
    "    \n",
    "    price_parent = item.find('span', 'a-price')\n",
    "    price = price_parent.find('span', 'a-offscreen').text\n",
    "    \n",
    "    # rank and rating\n",
    "    \n",
    "    rating = item.i.text\n",
    "    review_count = item.find('span', {'class': 'a-size-base'}).text\n",
    "    \n",
    "    result = (description, price, rating, review_count, url)\n",
    "    \n",
    "    return result"
   ]
  },
  {
   "cell_type": "code",
   "execution_count": null,
   "id": "286b3db7",
   "metadata": {},
   "outputs": [],
   "source": [
    "records = [ ]\n",
    "results = soup.find_all('div', {'data-component-type': 's-search-result'})\n",
    "\n",
    "for item in results:\n",
    "    records.append(extract_record(item))"
   ]
  },
  {
   "cell_type": "code",
   "execution_count": null,
   "id": "8d97177c",
   "metadata": {},
   "outputs": [],
   "source": [
    "# see if its work \n",
    "\n",
    "records[0]"
   ]
  },
  {
   "cell_type": "code",
   "execution_count": null,
   "id": "e2bce888",
   "metadata": {},
   "outputs": [],
   "source": [
    "# display entire price on the first page\n",
    "\n",
    "for row in records:\n",
    "    print(row[1])"
   ]
  },
  {
   "cell_type": "markdown",
   "id": "2bb89169",
   "metadata": {},
   "source": [
    "# getting the text page "
   ]
  },
  {
   "cell_type": "code",
   "execution_count": null,
   "id": "9b84f6bd",
   "metadata": {},
   "outputs": [],
   "source": [
    "\n",
    "\n",
    "def get_url (search_term):\n",
    "    \"\"\"Generate a url from search term\"\"\"\n",
    "    template = 'https://www.amazon.com/s?k={}r&crid=1LX4U1JBSS9JP&sprefix=ultrawide%2Caps%2C235&ref=nb_sb_ss_ts-doa-p_1_9'\n",
    "    search_term = search_term.replace(' ', '+')\n",
    "    \n",
    "    # add term query to url \n",
    "    \n",
    "    url = template.format(search_term)\n",
    "    \n",
    "    # add page query placeholder \n",
    "    \n",
    "    url += '&page{}'\n",
    "    \n",
    "    return url"
   ]
  },
  {
   "cell_type": "markdown",
   "id": "cc78acf7",
   "metadata": {},
   "source": [
    "# Handling error"
   ]
  },
  {
   "cell_type": "code",
   "execution_count": null,
   "id": "9e49052a",
   "metadata": {},
   "outputs": [],
   "source": [
    "def extract_record(item):\n",
    "    \n",
    "    # description and url \n",
    "    \n",
    "    atag = item.h2.a\n",
    "    description = atag.text.strip()\n",
    "    url = 'https://www.amazon.com' + atag.get('href')\n",
    "    \n",
    "    try:\n",
    "        # Price \n",
    "    \n",
    "        price_parent = item.find('span', 'a-price')\n",
    "        price = price_parent.find('span', 'a-offscreen').text\n",
    "    except AttributeError:\n",
    "        return\n",
    "    \n",
    "    # rank and rating\n",
    "    \n",
    "    try:\n",
    "        rating = item.i.text\n",
    "        review_count = item.find('span', {'class': 'a-size-base'}).text\n",
    "    except AttributeError:\n",
    "        rating = ''\n",
    "        review_count = ''\n",
    "    \n",
    "    result = (description, price, rating, review_count, url)\n",
    "    \n",
    "    return result"
   ]
  },
  {
   "cell_type": "markdown",
   "id": "a71b0325",
   "metadata": {},
   "source": [
    "# Putting it all together"
   ]
  },
  {
   "cell_type": "code",
   "execution_count": null,
   "id": "cc2721e3",
   "metadata": {},
   "outputs": [],
   "source": []
  },
  {
   "cell_type": "code",
   "execution_count": null,
   "id": "06394cf9",
   "metadata": {},
   "outputs": [],
   "source": [
    "records = [ ]\n",
    "results = soup.find_all('div', {'data-component-type': 's-search-result'})\n",
    "\n",
    "for item in results:\n",
    "    record = extract_record(item)\n",
    "    if record:\n",
    "        records.append(record)"
   ]
  },
  {
   "cell_type": "code",
   "execution_count": 58,
   "id": "6d94a9d7",
   "metadata": {},
   "outputs": [],
   "source": [
    "import csv\n",
    "from bs4 import BeautifulSoup\n",
    "\n",
    "# getting the text page \n",
    "\n",
    "def get_url (search_term):\n",
    "    \"\"\"Generate a url from search term\"\"\"\n",
    "    template = 'https://www.amazon.com/s?k={}r&crid=1LX4U1JBSS9JP&sprefix=ultrawide%2Caps%2C235&ref=nb_sb_ss_ts-doa-p_1_9'\n",
    "    search_term = search_term.replace(' ', '+')\n",
    "    \n",
    "    # add term query to url \n",
    "    \n",
    "    url = template.format(search_term)\n",
    "    \n",
    "    # add page query placeholder \n",
    "    \n",
    "    url += '&page={}'\n",
    "    \n",
    "    return url\n",
    "\n",
    "\n",
    "def extract_record(item):\n",
    "    \n",
    "    # description and url \n",
    "    \n",
    "    atag = item.h2.a\n",
    "    description = atag.text.strip()\n",
    "    url = 'https://www.amazon.com' + atag.get('href')\n",
    "    \n",
    "    try:\n",
    "        # Price \n",
    "    \n",
    "        price_parent = item.find('span', 'a-price')\n",
    "        price = price_parent.find('span', 'a-offscreen').text\n",
    "    except AttributeError:\n",
    "        return\n",
    "    \n",
    "    # rank and rating\n",
    "    \n",
    "    try:\n",
    "        rating = item.i.text\n",
    "        review_count = item.find('span', {'class': 'a-size-base'}).text\n",
    "    except AttributeError:\n",
    "        rating = ''\n",
    "        review_count = ''\n",
    "    \n",
    "    result = (description, price, rating, review_count, url)\n",
    "    \n",
    "    return result\n",
    "\n",
    "def main(search_term):\n",
    "    \"\"\"Run main program routine\"\"\"\n",
    "    \n",
    "    # start up the webdriver\n",
    "    \n",
    "    browser = webdriver.Chrome('/Users/yuyakondo/Desktop/Python web scrapping/chromedriver')\n",
    "    \n",
    "    records= [ ]\n",
    "    url = get_url(search_term)\n",
    "    \n",
    "    # grabbing entire page \n",
    "    for page in range(1,21):\n",
    "        browser.get(url.format(page))\n",
    "        soup = BeautifulSoup(browser.page_source, 'html.parser')\n",
    "        results = soup.find_all('div', {'data-component-type': 's-search-result'})\n",
    "        \n",
    "        for item in results:\n",
    "            record = extract_record(item)\n",
    "            if record:\n",
    "                records.append(record)\n",
    "    \n",
    "    browser.close()\n",
    "    \n",
    "    # save data to csv file \n",
    "    \n",
    "    with open('wide_monitor_price_amazon.csv', 'w', newline = '', encoding = 'utf-8') as f:\n",
    "        writer = csv.writer(f)\n",
    "        writer.writerow(['Description', 'price', 'rating', 'review_count', 'URL'])\n",
    "        writer.writerows(records)"
   ]
  },
  {
   "cell_type": "code",
   "execution_count": 59,
   "id": "9042a93e",
   "metadata": {},
   "outputs": [],
   "source": [
    "# start scrapping\n",
    "\n",
    "main('Ultra wide monitor')"
   ]
  }
 ],
 "metadata": {
  "kernelspec": {
   "display_name": "Python 3",
   "language": "python",
   "name": "python3"
  },
  "language_info": {
   "codemirror_mode": {
    "name": "ipython",
    "version": 3
   },
   "file_extension": ".py",
   "mimetype": "text/x-python",
   "name": "python",
   "nbconvert_exporter": "python",
   "pygments_lexer": "ipython3",
   "version": "3.8.8"
  }
 },
 "nbformat": 4,
 "nbformat_minor": 5
}
